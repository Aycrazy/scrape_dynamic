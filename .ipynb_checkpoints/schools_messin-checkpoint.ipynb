{
 "cells": [
  {
   "cell_type": "code",
   "execution_count": 2,
   "metadata": {},
   "outputs": [],
   "source": [
    "#from sandbox import schools_dict_complete\n",
    "from selenium import webdriver\n",
    "import csv\n",
    "import scrapy\n",
    "import time\n",
    "import pandas as pd"
   ]
  },
  {
   "cell_type": "code",
   "execution_count": 71,
   "metadata": {},
   "outputs": [],
   "source": [
    "testDriver = webdriver.Firefox()\n",
    "testDriver.get('https://projects.jsonline.com/news/2018/10/5/student-turnover-in-wisconsin-schools.html')"
   ]
  },
  {
   "cell_type": "code",
   "execution_count": 3,
   "metadata": {},
   "outputs": [],
   "source": [
    "schools = testDriver.find_elements_by_class_name(\"school\")"
   ]
  },
  {
   "cell_type": "code",
   "execution_count": 2,
   "metadata": {},
   "outputs": [],
   "source": [
    "#from sandbox import schools_dict_complete"
   ]
  },
  {
   "cell_type": "code",
   "execution_count": 72,
   "metadata": {},
   "outputs": [],
   "source": [
    "districts = testDriver.find_elements_by_class_name(\"filters\")[0].find_element_by_xpath(\"//select\")"
   ]
  },
  {
   "cell_type": "code",
   "execution_count": 22,
   "metadata": {},
   "outputs": [],
   "source": [
    "districts = districts.text.split('\\n')[1:]"
   ]
  },
  {
   "cell_type": "code",
   "execution_count": 59,
   "metadata": {},
   "outputs": [],
   "source": [
    "from selenium.webdriver.support.ui import Select\n",
    "from selenium.webdriver import ActionChains\n",
    "#Select(districts).all_selected_options"
   ]
  },
  {
   "cell_type": "code",
   "execution_count": null,
   "metadata": {},
   "outputs": [],
   "source": [
    "#works\n",
    "schools_dict = {}\n",
    "count = 0\n",
    "for i,s in enumerate(Select(districts).options):\n",
    "    if i:\n",
    "        s.click()\n",
    "        schools = testDriver.find_elements_by_class_name(\"school\")\n",
    "        for i,school in enumerate(schools):\n",
    "            #print(school.text)\n",
    "            schools = testDriver.find_elements_by_class_name(\"school\")\n",
    "            s_n_d_name = school.find_elements_by_class_name(\"cell\")[0].text.split('\\n')\n",
    "            s_name = s_n_d_name[1]\n",
    "            #print(s_name)\n",
    "            dist_name = s_n_d_name[0]\n",
    "            cat = school.find_elements_by_class_name(\"cell\")[1].text\n",
    "            s_type = school.find_elements_by_class_name(\"cell\")[2].text\n",
    "            enroll = school.find_elements_by_class_name(\"cell\")[3].text\n",
    "            accountability = school.find_elements_by_class_name(\"cell\")[4].text\n",
    "            turnover_rate = school.find_elements_by_class_name(\"cell\")[5].text\n",
    "\n",
    "            schools_dict[i+count] = {}\n",
    "            for col,dat in [['name',s_name],['district',dist_name],['category',cat],\\\n",
    "                        ['type',s_type], ['enrollment',enroll], ['accountability',accountability],\\\n",
    "                        ['turnover_rate',turnover_rate]]:\n",
    "                schools_dict[i+count][col]=dat\n",
    "        time.sleep(.5)\n",
    "        testDriver.find_elements_by_class_name('filter-tag')[0].click()\n",
    "        count = count+i"
   ]
  },
  {
   "cell_type": "code",
   "execution_count": 81,
   "metadata": {},
   "outputs": [],
   "source": [
    "#action_chains = ActionChains(testDriver)\n",
    "#action_chains.drag_and_drop(element, Select(districts).options[1].text).perform()\n",
    "\n",
    "schools_df = pd.DataFrame.from_dict(schools_dict)"
   ]
  },
  {
   "cell_type": "code",
   "execution_count": 84,
   "metadata": {},
   "outputs": [],
   "source": [
    "schools_df.T.to_csv('js_school_info.csv')"
   ]
  },
  {
   "cell_type": "code",
   "execution_count": 3,
   "metadata": {},
   "outputs": [],
   "source": [
    "schools_df = pd.read_csv('js_school_info.csv')"
   ]
  },
  {
   "cell_type": "code",
   "execution_count": 6,
   "metadata": {},
   "outputs": [
    {
     "data": {
      "text/html": [
       "<div>\n",
       "<style scoped>\n",
       "    .dataframe tbody tr th:only-of-type {\n",
       "        vertical-align: middle;\n",
       "    }\n",
       "\n",
       "    .dataframe tbody tr th {\n",
       "        vertical-align: top;\n",
       "    }\n",
       "\n",
       "    .dataframe thead th {\n",
       "        text-align: right;\n",
       "    }\n",
       "</style>\n",
       "<table border=\"1\" class=\"dataframe\">\n",
       "  <thead>\n",
       "    <tr style=\"text-align: right;\">\n",
       "      <th></th>\n",
       "      <th>Unnamed: 0</th>\n",
       "      <th>accountability</th>\n",
       "      <th>category</th>\n",
       "      <th>district</th>\n",
       "      <th>enrollment</th>\n",
       "      <th>name</th>\n",
       "      <th>turnover_rate</th>\n",
       "      <th>type</th>\n",
       "    </tr>\n",
       "  </thead>\n",
       "  <tbody>\n",
       "    <tr>\n",
       "      <th>0</th>\n",
       "      <td>0</td>\n",
       "      <td>76</td>\n",
       "      <td>Elementary SchoolK4–5</td>\n",
       "      <td>Abbotsford</td>\n",
       "      <td>377</td>\n",
       "      <td>Abbotsford Elementary</td>\n",
       "      <td>6.3%</td>\n",
       "      <td>NaN</td>\n",
       "    </tr>\n",
       "    <tr>\n",
       "      <th>1</th>\n",
       "      <td>1</td>\n",
       "      <td>64</td>\n",
       "      <td>Elementary SchoolK4–5</td>\n",
       "      <td>Adams-Friendship Area</td>\n",
       "      <td>438</td>\n",
       "      <td>Adams-Friendship Elementary</td>\n",
       "      <td>16.0%</td>\n",
       "      <td>NaN</td>\n",
       "    </tr>\n",
       "    <tr>\n",
       "      <th>2</th>\n",
       "      <td>2</td>\n",
       "      <td>53</td>\n",
       "      <td>High School9–12</td>\n",
       "      <td>Adams-Friendship Area</td>\n",
       "      <td>488</td>\n",
       "      <td>Adams-Friendship High</td>\n",
       "      <td>10.4%</td>\n",
       "      <td>NaN</td>\n",
       "    </tr>\n",
       "    <tr>\n",
       "      <th>3</th>\n",
       "      <td>3</td>\n",
       "      <td>52</td>\n",
       "      <td>Middle School6–8</td>\n",
       "      <td>Adams-Friendship Area</td>\n",
       "      <td>233</td>\n",
       "      <td>Adams-Friendship Middle</td>\n",
       "      <td>9.0%</td>\n",
       "      <td>NaN</td>\n",
       "    </tr>\n",
       "    <tr>\n",
       "      <th>4</th>\n",
       "      <td>4</td>\n",
       "      <td>70</td>\n",
       "      <td>Elementary SchoolK4–5</td>\n",
       "      <td>Adams-Friendship Area</td>\n",
       "      <td>160</td>\n",
       "      <td>Grand Marsh Elementary</td>\n",
       "      <td>25.5%</td>\n",
       "      <td>NaN</td>\n",
       "    </tr>\n",
       "  </tbody>\n",
       "</table>\n",
       "</div>"
      ],
      "text/plain": [
       "   Unnamed: 0 accountability               category               district  \\\n",
       "0           0             76  Elementary SchoolK4–5             Abbotsford   \n",
       "1           1             64  Elementary SchoolK4–5  Adams-Friendship Area   \n",
       "2           2             53        High School9–12  Adams-Friendship Area   \n",
       "3           3             52       Middle School6–8  Adams-Friendship Area   \n",
       "4           4             70  Elementary SchoolK4–5  Adams-Friendship Area   \n",
       "\n",
       "  enrollment                         name turnover_rate type  \n",
       "0        377        Abbotsford Elementary          6.3%  NaN  \n",
       "1        438  Adams-Friendship Elementary         16.0%  NaN  \n",
       "2        488        Adams-Friendship High         10.4%  NaN  \n",
       "3        233      Adams-Friendship Middle          9.0%  NaN  \n",
       "4        160       Grand Marsh Elementary         25.5%  NaN  "
      ]
     },
     "execution_count": 6,
     "metadata": {},
     "output_type": "execute_result"
    }
   ],
   "source": [
    "schools_df.head()"
   ]
  },
  {
   "cell_type": "code",
   "execution_count": null,
   "metadata": {},
   "outputs": [],
   "source": []
  }
 ],
 "metadata": {
  "kernelspec": {
   "display_name": "Python 3",
   "language": "python",
   "name": "python3"
  },
  "language_info": {
   "codemirror_mode": {
    "name": "ipython",
    "version": 3
   },
   "file_extension": ".py",
   "mimetype": "text/x-python",
   "name": "python",
   "nbconvert_exporter": "python",
   "pygments_lexer": "ipython3",
   "version": "3.7.0"
  }
 },
 "nbformat": 4,
 "nbformat_minor": 2
}
