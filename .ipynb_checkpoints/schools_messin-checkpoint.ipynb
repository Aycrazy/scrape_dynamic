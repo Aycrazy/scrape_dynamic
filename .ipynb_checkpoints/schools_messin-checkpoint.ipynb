{
 "cells": [
  {
   "cell_type": "code",
   "execution_count": 4,
   "metadata": {},
   "outputs": [],
   "source": [
    "#from sandbox import schools_dict_complete\n",
    "from selenium import webdriver\n",
    "import csv\n",
    "import scrapy\n",
    "import time"
   ]
  },
  {
   "cell_type": "code",
   "execution_count": 71,
   "metadata": {},
   "outputs": [],
   "source": [
    "testDriver = webdriver.Firefox()\n",
    "testDriver.get('https://projects.jsonline.com/news/2018/10/5/student-turnover-in-wisconsin-schools.html')"
   ]
  },
  {
   "cell_type": "code",
   "execution_count": 3,
   "metadata": {},
   "outputs": [],
   "source": [
    "schools = testDriver.find_elements_by_class_name(\"school\")"
   ]
  },
  {
   "cell_type": "code",
   "execution_count": 2,
   "metadata": {},
   "outputs": [],
   "source": [
    "#from sandbox import schools_dict_complete"
   ]
  },
  {
   "cell_type": "code",
   "execution_count": 72,
   "metadata": {},
   "outputs": [],
   "source": [
    "districts = testDriver.find_elements_by_class_name(\"filters\")[0].find_element_by_xpath(\"//select\")"
   ]
  },
  {
   "cell_type": "code",
   "execution_count": 22,
   "metadata": {},
   "outputs": [],
   "source": [
    "districts = districts.text.split('\\n')[1:]"
   ]
  },
  {
   "cell_type": "code",
   "execution_count": 59,
   "metadata": {},
   "outputs": [],
   "source": [
    "from selenium.webdriver.support.ui import Select\n",
    "from selenium.webdriver import ActionChains\n",
    "#Select(districts).all_selected_options"
   ]
  },
  {
   "cell_type": "code",
   "execution_count": null,
   "metadata": {},
   "outputs": [
    {
     "name": "stdout",
     "output_type": "stream",
     "text": [
      "Abbotsford Elementary\n",
      "Abbotsford Middle/Senior High\n",
      "Adams-Friendship Elementary\n",
      "Adams-Friendship High\n",
      "Adams-Friendship Middle\n",
      "Grand Marsh Elementary\n",
      "Roche-A-Cri Elementary\n"
     ]
    }
   ],
   "source": [
    "#works\n",
    "schools_dict = {}\n",
    "count = 0\n",
    "for i,s in enumerate(Select(districts).options):\n",
    "    if i:\n",
    "        s.click()\n",
    "        schools = testDriver.find_elements_by_class_name(\"school\")\n",
    "        for i,school in enumerate(schools):\n",
    "            #print(school.text)\n",
    "            schools = testDriver.find_elements_by_class_name(\"school\")\n",
    "            s_n_d_name = school.find_elements_by_class_name(\"cell\")[0].text.split('\\n')\n",
    "            s_name = s_n_d_name[1]\n",
    "            print(s_name)\n",
    "            dist_name = s_n_d_name[0]\n",
    "            cat = school.find_elements_by_class_name(\"cell\")[1].text\n",
    "            s_type = school.find_elements_by_class_name(\"cell\")[2].text\n",
    "            enroll = school.find_elements_by_class_name(\"cell\")[3].text\n",
    "            accountability = school.find_elements_by_class_name(\"cell\")[4].text\n",
    "            turnover_rate = school.find_elements_by_class_name(\"cell\")[5].text\n",
    "\n",
    "            schools_dict[i+count] = {}\n",
    "            for col,dat in [['name',s_name],['district',dist_name],['category',cat],\\\n",
    "                        ['type',s_type], ['enrollment',enroll], ['accountability',accountability],\\\n",
    "                        ['turnover_rate',turnover_rate]]:\n",
    "                schools_dict[i][col]=dat\n",
    "        time.sleep(3)\n",
    "        testDriver.find_elements_by_class_name('filter-tag')[0].click()\n",
    "        count = count+i"
   ]
  },
  {
   "cell_type": "code",
   "execution_count": 38,
   "metadata": {},
   "outputs": [
    {
     "ename": "NameError",
     "evalue": "name 'element' is not defined",
     "output_type": "error",
     "traceback": [
      "\u001b[0;31m---------------------------------------------------------------------------\u001b[0m",
      "\u001b[0;31mNameError\u001b[0m                                 Traceback (most recent call last)",
      "\u001b[0;32m<ipython-input-38-00b5d8bb318b>\u001b[0m in \u001b[0;36m<module>\u001b[0;34m\u001b[0m\n\u001b[1;32m      1\u001b[0m \u001b[0maction_chains\u001b[0m \u001b[0;34m=\u001b[0m \u001b[0mActionChains\u001b[0m\u001b[0;34m(\u001b[0m\u001b[0mtestDriver\u001b[0m\u001b[0;34m)\u001b[0m\u001b[0;34m\u001b[0m\u001b[0m\n\u001b[0;32m----> 2\u001b[0;31m \u001b[0maction_chains\u001b[0m\u001b[0;34m.\u001b[0m\u001b[0mdrag_and_drop\u001b[0m\u001b[0;34m(\u001b[0m\u001b[0melement\u001b[0m\u001b[0;34m,\u001b[0m \u001b[0mSelect\u001b[0m\u001b[0;34m(\u001b[0m\u001b[0mdistricts\u001b[0m\u001b[0;34m)\u001b[0m\u001b[0;34m.\u001b[0m\u001b[0moptions\u001b[0m\u001b[0;34m[\u001b[0m\u001b[0;36m1\u001b[0m\u001b[0;34m]\u001b[0m\u001b[0;34m.\u001b[0m\u001b[0mtext\u001b[0m\u001b[0;34m)\u001b[0m\u001b[0;34m.\u001b[0m\u001b[0mperform\u001b[0m\u001b[0;34m(\u001b[0m\u001b[0;34m)\u001b[0m\u001b[0;34m\u001b[0m\u001b[0m\n\u001b[0m",
      "\u001b[0;31mNameError\u001b[0m: name 'element' is not defined"
     ]
    }
   ],
   "source": [
    "#action_chains = ActionChains(testDriver)\n",
    "#action_chains.drag_and_drop(element, Select(districts).options[1].text).perform()"
   ]
  },
  {
   "cell_type": "code",
   "execution_count": null,
   "metadata": {},
   "outputs": [],
   "source": []
  }
 ],
 "metadata": {
  "kernelspec": {
   "display_name": "Python 3",
   "language": "python",
   "name": "python3"
  },
  "language_info": {
   "codemirror_mode": {
    "name": "ipython",
    "version": 3
   },
   "file_extension": ".py",
   "mimetype": "text/x-python",
   "name": "python",
   "nbconvert_exporter": "python",
   "pygments_lexer": "ipython3",
   "version": "3.7.0"
  }
 },
 "nbformat": 4,
 "nbformat_minor": 2
}
